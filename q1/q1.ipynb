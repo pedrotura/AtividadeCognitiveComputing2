{
  "cells": [
    {
      "cell_type": "code",
      "execution_count": 5,
      "metadata": {
        "id": "rx7iPHf4dwpv"
      },
      "outputs": [],
      "source": [
        "import cv2\n",
        "import matplotlib.pyplot as plt\n",
        "import numpy as np"
      ]
    },
    {
      "cell_type": "code",
      "execution_count": 70,
      "metadata": {
        "id": "NvAnTI0kdwpx"
      },
      "outputs": [],
      "source": [
        "## implementar a função que identifica a bandeira\n",
        "## a função deve receber uma imagem e retornar a bandeira identificada\n",
        "## a função deve retornar uma lista de tuplas, onde cada tupla contém as coordenadas de um dos cantos da bandeira\n",
        "## [(PAIS, (x1, y2), (x2, y2)`),(PAIS, (x1, y2), (x2, y2)`),(PAIS, (x1, y2), (x2, y2)`),...]\n",
        "\n",
        "def identifica_bandeira(img):\n",
        "    image_lower_hsv = np.array([0, 0, 100])\n",
        "    image_upper_hsv = np.array([180, 255, 255])\n",
        "\n",
        "    img_hsv = cv2.cvtColor(img, cv2.COLOR_BGR2HSV)\n",
        "    mask_hsv = cv2.inRange(img_hsv, image_lower_hsv, image_upper_hsv)\n",
        "\n",
        "    bandeira_contornos, _ = cv2.findContours(mask_hsv, cv2.RETR_TREE, cv2.CHAIN_APPROX_SIMPLE)\n",
        "\n",
        "    # definindo máscaras para as cores\n",
        "    lower_red1 = np.array([0, 50, 50])\n",
        "    upper_red1 = np.array([10, 255, 255])\n",
        "\n",
        "    lower_red2 = np.array([160, 50, 50])\n",
        "    upper_red2 = np.array([180, 255, 255])\n",
        "\n",
        "    lower_orange = np.array([5, 100, 100])\n",
        "    upper_orange = np.array([25, 255, 255])\n",
        "\n",
        "    lower_green = np.array([35, 40, 40])\n",
        "    upper_green = np.array([90, 255, 255])\n",
        "\n",
        "    lower_white = np.array([0, 0, 180])\n",
        "    upper_white = np.array([255, 40, 255])\n",
        "\n",
        "    resultado = []\n",
        "\n",
        "    for contorno in bandeira_contornos:\n",
        "        x, y, w, h = cv2.boundingRect(contorno)\n",
        "\n",
        "        bandeira_hsv = img_hsv[y:y+h, x:x+w]\n",
        "\n",
        "        # definindo as máscaras\n",
        "        red_mask = cv2.bitwise_or(\n",
        "          cv2.inRange(bandeira_hsv, lower_red1, upper_red1),\n",
        "          cv2.inRange(bandeira_hsv, lower_red2, upper_red2)\n",
        "        )\n",
        "\n",
        "        orange_mask = cv2.inRange(bandeira_hsv, lower_orange, upper_orange)\n",
        "        green_mask = cv2.inRange(bandeira_hsv, lower_green, upper_green)\n",
        "        white_mask = cv2.inRange(bandeira_hsv, lower_white, upper_white)\n",
        "\n",
        "        pixels = w*h\n",
        "\n",
        "        red_pixels = cv2.countNonZero(red_mask)/pixels\n",
        "        orange_pixels = cv2.countNonZero(orange_mask)/pixels\n",
        "        green_pixels = cv2.countNonZero(green_mask)/pixels\n",
        "        white_pixels = cv2.countNonZero(white_mask)/pixels\n",
        "\n",
        "        # identificando os padrões de bandeiras com base nas cores\n",
        "        pais = \"\"\n",
        "\n",
        "        # itália (verde, branco e vermelho)\n",
        "        if red_pixels >= 0.3 and white_pixels >= 0.3 and green_pixels >= 0.3:\n",
        "          pais = \"italia\"\n",
        "        # irlanda (verde, branco e laranja)\n",
        "        elif orange_pixels >= 0.3 and white_pixels >= 0.3 and green_pixels >= 0.3:\n",
        "          pais = \"irlanda\"\n",
        "        # peru (vermelho, branco e vermelho)\n",
        "        elif red_pixels >= 0.6 and white_pixels >= 0.3:\n",
        "          pais = \"peru\"\n",
        "        # mônaco (vermelho e branco)\n",
        "        elif red_pixels == 0.5 and white_pixels == 0.5:\n",
        "          pais = \"monaco\"\n",
        "        # singapura (branco e vermelho)\n",
        "        elif red_pixels >= 0.4 and white_pixels >= 0.5:\n",
        "          pais = \"singapura\"\n",
        "\n",
        "        bandeira = (pais, (x, y), (x + w, y + h))\n",
        "        resultado.append(bandeira)\n",
        "\n",
        "    return resultado\n"
      ]
    },
    {
      "cell_type": "code",
      "execution_count": 28,
      "metadata": {
        "id": "l138NJiTdwpy"
      },
      "outputs": [],
      "source": [
        "## nao alterar essa função\n",
        "# Função para desenhar as bandeiras identificadas\n",
        "def draw_bandeiras(lista_bandeiras, bgr):\n",
        "    try:\n",
        "        for bandeira in lista_bandeiras:\n",
        "            cv2.rectangle(bgr, bandeira[1], bandeira[2], (255, 0, 0), 5)\n",
        "            cv2.putText(bgr, bandeira[0], bandeira[1], cv2.FONT_HERSHEY_SIMPLEX, 1, (255, 0, 0), 2, cv2.LINE_AA)\n",
        "        return bgr\n",
        "    except Exception as e:\n",
        "        return bgr"
      ]
    },
    {
      "cell_type": "code",
      "execution_count": 71,
      "metadata": {
        "id": "kbmjP4jodwpz",
        "outputId": "5b540866-1af9-487b-dcfb-cd0b38509dd4",
        "colab": {
          "base_uri": "https://localhost:8080/",
          "height": 434
        }
      },
      "outputs": [
        {
          "output_type": "stream",
          "name": "stdout",
          "text": [
            "[('singapura', (192, 497), (457, 673)), ('monaco', (726, 163), (984, 369)), ('peru', (119, 121), (380, 296))]\n"
          ]
        },
        {
          "output_type": "display_data",
          "data": {
            "text/plain": [
              "<Figure size 640x480 with 1 Axes>"
            ],
            "image/png": "[encoded data removed]"
          },
          "metadata": {}
        }
      ],
      "source": [
        "## Para testar a função identifica_bandeira\n",
        "\n",
        "# Você pode testar a função identifica_bandeira com as imagens de teste fornecidas\n",
        "\n",
        "img = cv2.imread('img/teste1.png')\n",
        "# img = cv2.imread('img/teste2.png')\n",
        "# img = cv2.imread('img/teste3.png')\n",
        "# img = cv2.imread('img/teste4.png')\n",
        "\n",
        "# Chamar a função identifica_bandeira\n",
        "resultado = identifica_bandeira(img)\n",
        "\n",
        "# Imprimir o resultado da função identifica_bandeira\n",
        "print(resultado)\n",
        "\n",
        "# Desenhar as bandeiras na imagem\n",
        "bgr = draw_bandeiras(resultado, img)\n",
        "plt.imshow(cv2.cvtColor(bgr, cv2.COLOR_BGR2RGB))\n",
        "plt.show()\n",
        "\n",
        "\n"
      ]
    },
    {
      "cell_type": "code",
      "execution_count": null,
      "metadata": {
        "id": "St02IFKjdwp0"
      },
      "outputs": [],
      "source": []
    }
  ],
  "metadata": {
    "kernelspec": {
      "display_name": "Python 3",
      "language": "python",
      "name": "python3"
    },
    "language_info": {
      "codemirror_mode": {
        "name": "ipython",
        "version": 3
      },
      "file_extension": ".py",
      "mimetype": "text/x-python",
      "name": "python",
      "nbconvert_exporter": "python",
      "pygments_lexer": "ipython3",
      "version": "3.12.3"
    },
    "colab": {
      "provenance": []
    }
  },
  "nbformat": 4,
  "nbformat_minor": 0
}