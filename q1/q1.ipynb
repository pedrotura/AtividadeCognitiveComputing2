{
 "cells": [
  {
   "cell_type": "code",
   "execution_count": 1,
   "metadata": {},
   "outputs": [],
   "source": [
    "import cv2\n",
    "import matplotlib.pyplot as plt\n",
    "import numpy as np"
   ]
  },
  {
   "cell_type": "code",
   "execution_count": 64,
   "metadata": {},
   "outputs": [],
   "source": [
    "## implementar a função que identifica a bandeira\n",
    "## a função deve receber uma imagem e retornar a bandeira identificada\n",
    "## a função deve retornar uma lista de tuplas, onde cada tupla contém as coordenadas de um dos cantos da bandeira\n",
    "## [(PAIS, (x1, y2), (x2, y2)`),(PAIS, (x1, y2), (x2, y2)`),(PAIS, (x1, y2), (x2, y2)`),...]\n",
    "\n",
    "def identifica_bandeira(img):\n",
    "    image_lower_hsv = np.array([0, 0, 100])\n",
    "    image_upper_hsv = np.array([180, 255, 255])\n",
    "\n",
    "    img_hsv = cv2.cvtColor(img, cv2.COLOR_RGB2HSV)\n",
    "    mask_hsv = cv2.inRange(img_hsv, image_lower_hsv, image_upper_hsv)\n",
    "\n",
    "    bandeira_contornos, _ = cv2.findContours(mask_hsv, cv2.RETR_TREE, cv2.CHAIN_APPROX_SIMPLE)\n",
    "    \n",
    "    for i in range(0, len(bandeira_contornos)):\n",
    "        x, y, w, h = cv2.boundingRect(bandeira_contornos[i])\n",
    "\n",
    "        bandeira_hsv = img_hsv[y:y+h, x:x+w]\n",
    "\n",
    "        # definindo máscaras para as cores\n",
    "        lower_red = np.array([0, 100, 100])\n",
    "        upper_red = np.array([5, 255, 255])\n",
    "\n",
    "        lower_orange = np.array([5, 100, 100])\n",
    "        upper_orange = np.array([15, 255, 255])\n",
    "\n",
    "        lower_green = np.array([50, 100, 100])\n",
    "        upper_green = np.array([70, 255, 255])\n",
    "\n",
    "        lower_white = np.array([0, 0, 255])\n",
    "        upper_white = np.array([255, 255, 255])\n",
    "\n",
    "        red_mask = cv2.inRange(bandeira_hsv, lower_red, upper_red)\n",
    "        orange_mask = cv2.inRange(bandeira_hsv, lower_orange, upper_orange)\n",
    "        green_mask = cv2.inRange(bandeira_hsv, lower_green, upper_green)\n",
    "        white_mask = cv2.inRange(bandeira_hsv, lower_white, upper_white)\n",
    "\n",
    "        pixels = w*h\n",
    "\n",
    "        red_pixels = cv2.countNonZero(red_mask)/pixels\n",
    "        orange_pixels = cv2.countNonZero(orange_mask)/pixels\n",
    "        green_pixels = cv2.countNonZero(orange_mask)/pixels\n",
    "        white_pixels = cv2.countNonZero(white_mask)/pixels\n",
    "\n",
    "\n",
    "        # identificando os padrões de bandeiras com base nas cores\n",
    "        resultado = []\n",
    "        pais = \"\"\n",
    "\n",
    "        # itália (verde, branco e vermelho)\n",
    "        if red_pixels >= 0.3 and white_pixels >= 0.3 and green_pixels >= 0.3:\n",
    "            pais = \"itália\"\n",
    "        # irlanda (verde, branco e laranja)\n",
    "        elif orange_pixels >= 0.3 and white_pixels >= 0.3 and green_pixels >= 0.3:\n",
    "            pais = \"irlanda\"\n",
    "        # peru (vermelho, branco e vermelho)\n",
    "        elif red_pixels >= 0.6 and white_pixels >= 0.3:\n",
    "            pais = \"peru\"\n",
    "        # mônaco (vermelho e branco)\n",
    "        elif red_pixels == 0.5 and white_pixels == 0.5:\n",
    "            pais = \"mônaco\"\n",
    "        # singapura (branco e vermelho)\n",
    "        elif red_pixels >= 0.5 and 0.4 <= white_pixels <= 0.5:\n",
    "            pais = \"singapura\"\n",
    "        \n",
    "        bandeira = (pais, (x, y), (x + w, y + h))\n",
    "\n",
    "        resultado.append(bandeira)\n",
    "    \n",
    "    return resultado\n"
   ]
  },
  {
   "cell_type": "code",
   "execution_count": 65,
   "metadata": {},
   "outputs": [],
   "source": [
    "## nao alterar essa função\n",
    "# Função para desenhar as bandeiras identificadas\n",
    "def draw_bandeiras(lista_bandeiras, bgr):\n",
    "    try:\n",
    "        for bandeira in lista_bandeiras:\n",
    "            cv2.rectangle(bgr, bandeira[1], bandeira[2], (255, 0, 0), 5)\n",
    "            cv2.putText(bgr, bandeira[0], bandeira[1], cv2.FONT_HERSHEY_SIMPLEX, 1, (255, 0, 0), 2, cv2.LINE_AA)\n",
    "        return bgr\n",
    "    except Exception as e:\n",
    "        return bgr"
   ]
  },
  {
   "cell_type": "code",
   "execution_count": 66,
   "metadata": {},
   "outputs": [
    {
     "name": "stdout",
     "output_type": "stream",
     "text": [
      "[('', (119, 121), (380, 296))]\n"
     ]
    },
    {
     "data": {
      "image/png": "[encoded data removed]",
      "text/plain": [
       "<Figure size 640x480 with 1 Axes>"
      ]
     },
     "metadata": {},
     "output_type": "display_data"
    }
   ],
   "source": [
    "## Para testar a função identifica_bandeira\n",
    "\n",
    "# Você pode testar a função identifica_bandeira com as imagens de teste fornecidas\n",
    " \n",
    "img = cv2.imread('img/teste1.png')\n",
    "# img = cv2.imread('img/teste2.png')\n",
    "# img = cv2.imread('img/teste3.png')\n",
    "# img = cv2.imread('img/teste4.png')\n",
    "\n",
    "# Chamar a função identifica_bandeira\n",
    "resultado = identifica_bandeira(img)\n",
    "\n",
    "# Imprimir o resultado da função identifica_bandeira \n",
    "print(resultado)\n",
    "\n",
    "# Desenhar as bandeiras na imagem\n",
    "bgr = draw_bandeiras(resultado, img)\n",
    "plt.imshow(cv2.cvtColor(bgr, cv2.COLOR_BGR2RGB))\n",
    "plt.show()\n",
    "\n",
    "\n"
   ]
  },
  {
   "cell_type": "code",
   "execution_count": null,
   "metadata": {},
   "outputs": [],
   "source": []
  }
 ],
 "metadata": {
  "kernelspec": {
   "display_name": "Python 3",
   "language": "python",
   "name": "python3"
  },
  "language_info": {
   "codemirror_mode": {
    "name": "ipython",
    "version": 3
   },
   "file_extension": ".py",
   "mimetype": "text/x-python",
   "name": "python",
   "nbconvert_exporter": "python",
   "pygments_lexer": "ipython3",
   "version": "3.12.3"
  }
 },
 "nbformat": 4,
 "nbformat_minor": 2
}
